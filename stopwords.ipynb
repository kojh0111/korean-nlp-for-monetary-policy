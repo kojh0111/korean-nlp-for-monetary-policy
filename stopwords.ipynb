{
  "nbformat": 4,
  "nbformat_minor": 0,
  "metadata": {
    "colab": {
      "private_outputs": true,
      "provenance": [],
      "mount_file_id": "1ol0dns6S7czjicmoiFKnFnCXYazQpWQI",
      "authorship_tag": "ABX9TyOkFuVc61I02cuDpoA3psA6",
      "include_colab_link": true
    },
    "kernelspec": {
      "name": "python3",
      "display_name": "Python 3"
    },
    "language_info": {
      "name": "python"
    }
  },
  "cells": [
    {
      "cell_type": "markdown",
      "metadata": {
        "id": "view-in-github",
        "colab_type": "text"
      },
      "source": [
        "<a href=\"https://colab.research.google.com/github/kojh0111/korean-nlp-for-monetary-policy/blob/feature%2Fbond_analysis/stopwords.ipynb\" target=\"_parent\"><img src=\"https://colab.research.google.com/assets/colab-badge.svg\" alt=\"Open In Colab\"/></a>"
      ]
    },
    {
      "cell_type": "code",
      "source": [
        "stopwords"
      ],
      "metadata": {
        "id": "XqGbn0bVGUsa"
      },
      "execution_count": null,
      "outputs": []
    },
    {
      "cell_type": "code",
      "source": [],
      "metadata": {
        "id": "V_tjtbQVGcEl"
      },
      "execution_count": null,
      "outputs": []
    }
  ]
}